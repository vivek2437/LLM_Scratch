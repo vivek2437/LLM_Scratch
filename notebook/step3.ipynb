{
 "cells": [
  {
   "cell_type": "markdown",
   "id": "8717f575-b95d-4b27-8187-e4c7714f504d",
   "metadata": {},
   "source": [
    "# 3 Implemetning a GPT model from scratch to genrate text"
   ]
  },
  {
   "cell_type": "markdown",
   "id": "5f870571-3089-46ec-89c1-1872cb74a55f",
   "metadata": {},
   "source": [
    "# 3.1 Coding an LLM architecture"
   ]
  },
  {
   "cell_type": "code",
   "execution_count": 1,
   "id": "99eb0ccc-46c0-49ac-97a8-6bb5bda39a44",
   "metadata": {},
   "outputs": [],
   "source": [
    "GPT_CONFIG_124M={\n",
    "    \"vocab_size\":50257,\n",
    "    \"context_length\":1024,\n",
    "    \"emb_dim\":1600,\n",
    "    \"n_heads\":25,\n",
    "    \"n_layers\":48,\n",
    "    \"drop_rate\":0.1,\n",
    "    \"qkv_bias\":False\n",
    "}"
   ]
  },
  {
   "cell_type": "code",
   "execution_count": 2,
   "id": "fcbacfd9-79e2-448b-b36a-6932d56080cf",
   "metadata": {},
   "outputs": [],
   "source": [
    "import torch\n",
    "import torch.nn as nn\n",
    "\n",
    "class DummyTransformerBlock(nn.Module):\n",
    "    def __init__(self, cfg):\n",
    "        super().__init__()\n",
    "\n",
    "    def forward(self, x):\n",
    "        return x\n",
    "\n",
    "\n",
    "class DummyLayerNorm(nn.Module):\n",
    "    def __init__(self, normalized_shape, eps=1e-5):\n",
    "        super().__init__()\n",
    "\n",
    "    def forward(self, x):\n",
    "        return x\n",
    "\n",
    "\n",
    "class DummyGPTModel(nn.Module):\n",
    "    def __init__(self, cfg):\n",
    "        super().__init__()\n",
    "        self.tok_emb = nn.Embedding(cfg[\"vocab_size\"], cfg[\"emb_dim\"])\n",
    "        self.pos_emb = nn.Embedding(cfg[\"context_length\"], cfg[\"emb_dim\"])\n",
    "        self.drop_emb = nn.Dropout(cfg[\"drop_rate\"])\n",
    "\n",
    "        self.trf_blocks = nn.Sequential(\n",
    "            *[DummyTransformerBlock(cfg) for _ in range(cfg[\"n_layers\"])]\n",
    "        )\n",
    "\n",
    "        self.final_norm = DummyLayerNorm(cfg[\"emb_dim\"])\n",
    "        self.out_head = nn.Linear(cfg[\"emb_dim\"], cfg[\"vocab_size\"], bias=False)\n",
    "\n",
    "    def forward(self, in_idx):\n",
    "        batch_size, seq_len = in_idx.shape\n",
    "        tok_embeds = self.tok_emb(in_idx)\n",
    "        pos_embeds = self.pos_emb(torch.arange(seq_len, device=in_idx.device))\n",
    "        x = tok_embeds + pos_embeds\n",
    "        x = self.drop_emb(x)\n",
    "        x = self.trf_blocks(x)\n",
    "        x = self.out_head(x)\n",
    "        return x\n"
   ]
  },
  {
   "cell_type": "code",
   "execution_count": 3,
   "id": "4da950bc-1a1e-427e-a56a-5aa64c062d0b",
   "metadata": {},
   "outputs": [
    {
     "name": "stdout",
     "output_type": "stream",
     "text": [
      "tensor([[6109, 3626, 6100,  345],\n",
      "        [6109, 1110, 6622,  257]])\n"
     ]
    }
   ],
   "source": [
    "import tiktoken\n",
    "# import torch\n",
    "\n",
    "tokenizer= tiktoken.get_encoding(\"gpt2\")\n",
    "\n",
    "batch=[]\n",
    "\n",
    "txt1=\"Every effort moves you\"\n",
    "txt2=\"Every day holds a\"\n",
    "\n",
    "batch.append(torch.tensor(tokenizer.encode(txt1)))\n",
    "batch.append(torch.tensor(tokenizer.encode(txt2)))\n",
    "batch=torch.stack(batch,dim=0)\n",
    "print(batch)"
   ]
  },
  {
   "cell_type": "code",
   "execution_count": 4,
   "id": "cd29e136-35b9-461d-b309-929d038bb046",
   "metadata": {},
   "outputs": [
    {
     "name": "stdout",
     "output_type": "stream",
     "text": [
      "Output Shape: torch.Size([2, 4, 50257])\n",
      "tensor([[[ 0.1251,  1.1525, -1.3001,  ..., -0.4876,  0.5665,  0.5488],\n",
      "         [ 0.6978, -0.3196, -0.0894,  ...,  1.9334,  0.4320, -1.5909],\n",
      "         [ 0.0477,  0.0577, -0.2911,  ...,  0.0302,  0.7183, -1.5870],\n",
      "         [-1.2839,  0.8085, -0.4529,  ...,  0.2904,  0.4932,  0.9286]],\n",
      "\n",
      "        [[-0.1847,  1.5396, -1.7063,  ..., -0.2936,  0.3621, -0.0771],\n",
      "         [-0.9853, -0.8396,  0.5931,  ...,  2.1843,  0.7224, -2.3603],\n",
      "         [ 0.2480, -0.5340,  0.0893,  ...,  0.2701,  0.6715, -1.0017],\n",
      "         [-1.3378, -0.4632, -1.3422,  ..., -0.6862,  0.1981,  0.2137]]],\n",
      "       grad_fn=<UnsafeViewBackward0>)\n"
     ]
    }
   ],
   "source": [
    "torch.manual_seed(123)\n",
    "model=DummyGPTModel(cfg=GPT_CONFIG_124M)\n",
    "\n",
    "logits=model(batch)\n",
    "print(\"Output Shape:\",logits.shape)\n",
    "print(logits)"
   ]
  },
  {
   "cell_type": "markdown",
   "id": "d2732ad3-f27b-4f33-917e-c33be2853a65",
   "metadata": {},
   "source": [
    "# 3.2 Normalizing activations with layer normalization"
   ]
  },
  {
   "cell_type": "code",
   "execution_count": 5,
   "id": "44b16a40-9f48-46a4-8a46-06ab8600dce0",
   "metadata": {},
   "outputs": [],
   "source": [
    "class LayerNorm(nn.Module):\n",
    "    def __init__(self,emb_dim):\n",
    "        super().__init__()\n",
    "        self.eps=1e-5\n",
    "        self.scale=nn.Parameter(torch.ones(emb_dim))\n",
    "        self.shift=nn.Parameter(torch.zeros(emb_dim))\n",
    "\n",
    "    def forward(self,x):\n",
    "        mean=x.mean(dim=-1,keepdim=True)\n",
    "        var= x.var(dim=-1,keepdim=True,unbiased=False)\n",
    "        norm_x=(x-mean) / torch.sqrt(var+ self.eps)\n",
    "        return self.scale * norm_x + self.shift"
   ]
  },
  {
   "cell_type": "code",
   "execution_count": 6,
   "id": "ff0b622b-f9d4-482c-a7a7-eaea80884166",
   "metadata": {},
   "outputs": [
    {
     "name": "stdout",
     "output_type": "stream",
     "text": [
      "torch.Size([2, 1000])\n"
     ]
    }
   ],
   "source": [
    "import torch\n",
    "import torch.nn as nn\n",
    "\n",
    "batch_example = torch.randn(2, 100)   # 2 samples, 100 features each\n",
    "layer = nn.Sequential(nn.Linear(100, 1000), nn.ReLU())\n",
    "\n",
    "out = layer(batch_example)\n",
    "print(out.shape)\n"
   ]
  },
  {
   "cell_type": "code",
   "execution_count": 7,
   "id": "e145a2f1-56fd-4831-b3be-092c91afd080",
   "metadata": {},
   "outputs": [],
   "source": [
    "ln=LayerNorm(1000)\n",
    "output_normed=ln(out)"
   ]
  },
  {
   "cell_type": "code",
   "execution_count": 8,
   "id": "f7484be2-dc5a-4eff-8ab9-0f4c13a578d1",
   "metadata": {},
   "outputs": [
    {
     "data": {
      "text/plain": [
       "tensor([[-0.7011,  0.7031, -0.4287,  ...,  1.0760, -0.7011, -0.5268],\n",
       "        [-0.6927,  1.8930, -0.6927,  ..., -0.6927,  0.7123, -0.6927]],\n",
       "       grad_fn=<AddBackward0>)"
      ]
     },
     "execution_count": 8,
     "metadata": {},
     "output_type": "execute_result"
    }
   ],
   "source": [
    "output_normed"
   ]
  },
  {
   "cell_type": "markdown",
   "id": "1f8075a2-fd4b-4078-966c-5405a5b00dd3",
   "metadata": {},
   "source": [
    "# 3.3 Implementing a feed forward network with GELU activations"
   ]
  },
  {
   "cell_type": "code",
   "execution_count": 9,
   "id": "81ba5e39-4486-45af-b38e-db196573abd1",
   "metadata": {},
   "outputs": [],
   "source": [
    " class GELU(nn.Module):\n",
    "    def __init__(self):\n",
    "         super().__init__()\n",
    "\n",
    "    def forward(self,x):\n",
    "        return 0.5 * x *(1+torch.tanh(\n",
    "            torch.sqrt(torch.tensor(2.0/torch.pi))*\n",
    "            (x+0.044715*torch.pow(x,3))\n",
    "        ))"
   ]
  },
  {
   "cell_type": "code",
   "execution_count": 10,
   "id": "c4def08e-62d1-4cd5-9334-1834073ab7cc",
   "metadata": {},
   "outputs": [
    {
     "data": {
      "image/png": "[encoded data removed]",
      "text/plain": [
       "<Figure size 800x300 with 2 Axes>"
      ]
     },
     "metadata": {},
     "output_type": "display_data"
    }
   ],
   "source": [
    "import matplotlib.pyplot as plt\n",
    "\n",
    "gelu,relu=GELU(),nn.ReLU()\n",
    "\n",
    "x=torch.linspace(-3,3,100)\n",
    "y_gelu,y_relu = gelu(x) , relu(x)\n",
    "\n",
    "plt.figure(figsize=(8,3))\n",
    "\n",
    "for i, (y,label) in enumerate(zip([y_gelu,y_relu] , [\"GELU\",\"RELU\"]),1):\n",
    "    plt.subplot(1,2,i)\n",
    "    plt.plot(x,y)\n",
    "    plt.title(f\"{label} activation function\")\n",
    "    plt.xlabel(\"x\")\n",
    "    plt.ylabel(f\"{label} (x)\")\n",
    "    plt.grid(True)\n",
    "\n",
    "plt.tight_layout()\n",
    "plt.show()"
   ]
  },
  {
   "cell_type": "code",
   "execution_count": 11,
   "id": "ec519a40-9369-40e2-8c5d-c715be83eb01",
   "metadata": {},
   "outputs": [],
   "source": [
    "class FeedForward(nn.Module):\n",
    "    def __init__(self,cfg):\n",
    "        super().__init__()\n",
    "        self.layers=nn.Sequential(\n",
    "        nn.Linear(cfg[\"emb_dim\"] , 4 * cfg[\"emb_dim\"]),\n",
    "        GELU(),\n",
    "        nn.Linear(4 * cfg[\"emb_dim\"] , cfg[\"emb_dim\"]),\n",
    "        )\n",
    "\n",
    "    def forward(self,x):\n",
    "        return self.layers(x)"
   ]
  },
  {
   "cell_type": "code",
   "execution_count": 12,
   "id": "307d94a1-d82d-48b7-aa2d-4534ec636ea8",
   "metadata": {},
   "outputs": [],
   "source": [
    "ffn=FeedForward(GPT_CONFIG_124M)"
   ]
  },
  {
   "cell_type": "code",
   "execution_count": 13,
   "id": "0b214138-d923-4cdb-8371-9260d38a8b84",
   "metadata": {},
   "outputs": [
    {
     "data": {
      "text/plain": [
       "torch.Size([2, 3, 1600])"
      ]
     },
     "execution_count": 13,
     "metadata": {},
     "output_type": "execute_result"
    }
   ],
   "source": [
    "x= torch.rand(2,3,1600)\n",
    "ffn(x).shape"
   ]
  },
  {
   "cell_type": "markdown",
   "id": "ab5cb250-2d91-4923-8917-cfb1ca1d3e10",
   "metadata": {},
   "source": [
    "# 3.4 Adding shortcut connections"
   ]
  },
  {
   "cell_type": "code",
   "execution_count": 14,
   "id": "dd039e4d-dbeb-4b8f-b18b-b92f0d922f2e",
   "metadata": {},
   "outputs": [],
   "source": [
    "class ExampleDeepNeuralNetwork(nn.Module):\n",
    "    def __init__(self, layer_sizes, use_shortcut):\n",
    "        super().__init__()\n",
    "        self.use_shortcut = use_shortcut\n",
    "        self.layers = nn.ModuleList([\n",
    "            nn.Sequential(nn.Linear(layer_sizes[0], layer_sizes[1]), GELU()),\n",
    "            nn.Sequential(nn.Linear(layer_sizes[1], layer_sizes[2]), GELU()),\n",
    "            nn.Sequential(nn.Linear(layer_sizes[2], layer_sizes[3]), GELU()),\n",
    "            nn.Sequential(nn.Linear(layer_sizes[3], layer_sizes[4]), GELU()),\n",
    "            nn.Sequential(nn.Linear(layer_sizes[4], layer_sizes[5]), GELU())\n",
    "        ])\n",
    "\n",
    "    def forward(self, x):\n",
    "        for layer in self.layers:\n",
    "            # Compute the output of the current layer\n",
    "            layer_output = layer(x)\n",
    "            # Check if shortcut can be applied\n",
    "            if self.use_shortcut and x.shape == layer_output.shape:\n",
    "                x = x + layer_output\n",
    "            else:\n",
    "                x = layer_output\n",
    "        return x\n",
    "\n",
    "\n",
    "def print_gradients(model, x):\n",
    "    # Forward pass\n",
    "    output = model(x)\n",
    "    target = torch.tensor([[0.]])\n",
    "\n",
    "    # Calculate loss based on how close the target\n",
    "    # and output are\n",
    "    loss = nn.MSELoss()\n",
    "    loss = loss(output, target)\n",
    "    \n",
    "    # Backward pass to calculate the gradients\n",
    "    loss.backward()\n",
    "\n",
    "    for name, param in model.named_parameters():\n",
    "        if 'weight' in name:\n",
    "            # Print the mean absolute gradient of the weights\n",
    "            print(f\"{name} has gradient mean of {param.grad.abs().mean().item()}\")"
   ]
  },
  {
   "cell_type": "code",
   "execution_count": 15,
   "id": "e986ff1d-6f78-4c0a-ab2b-cd063cd7d2f7",
   "metadata": {},
   "outputs": [
    {
     "name": "stdout",
     "output_type": "stream",
     "text": [
      "layers.0.0.weight has gradient mean of 0.00020173587836325169\n",
      "layers.1.0.weight has gradient mean of 0.0001201116101583466\n",
      "layers.2.0.weight has gradient mean of 0.0007152041653171182\n",
      "layers.3.0.weight has gradient mean of 0.001398873864673078\n",
      "layers.4.0.weight has gradient mean of 0.005049646366387606\n"
     ]
    }
   ],
   "source": [
    "layer_sizes =[3,3,3,3,3,1]\n",
    "\n",
    "sample_input = torch.tensor([[1.,0.,-1.]])\n",
    "\n",
    "torch.manual_seed(123)\n",
    "\n",
    "model_without_shortcut= ExampleDeepNeuralNetwork(\n",
    "    layer_sizes ,use_shortcut=False\n",
    ")\n",
    "\n",
    "print_gradients(model_without_shortcut ,sample_input)"
   ]
  },
  {
   "cell_type": "markdown",
   "id": "f573f708-6844-4188-a403-2f9747acb9dc",
   "metadata": {},
   "source": [
    "# 3.5 Connecting attention and linear layers in a transformer block"
   ]
  },
  {
   "cell_type": "code",
   "execution_count": 16,
   "id": "a194f758-0e55-4628-8dae-10e808e0a919",
   "metadata": {},
   "outputs": [
    {
     "name": "stdout",
     "output_type": "stream",
     "text": [
      "tensor(0.9128)\n",
      "tensor([0.9128, 1.3328, 1.0276, 0.8428, 1.1424, 0.8848])\n",
      "0.1469186246395111 ----> tensor([0.4300, 0.2000, 0.9000])\n",
      "0.2236044555902481 ----> tensor([0.5600, 0.8400, 0.5600])\n",
      "0.16479112207889557 ----> tensor([0.2200, 0.8500, 0.3400])\n",
      "0.13698600232601166 ----> tensor([0.7700, 0.2500, 0.3600])\n",
      "0.18483781814575195 ----> tensor([0.0500, 0.8000, 0.7900])\n",
      "0.14286194741725922 ----> tensor([0.7700, 0.4600, 0.1200])\n",
      "tensor([0.4494, 0.6051, 0.5260])\n",
      "0 tensor([0.4300, 0.2000, 0.9000])\n",
      "1 tensor([0.5600, 0.8400, 0.5600])\n",
      "2 tensor([0.2200, 0.8500, 0.3400])\n",
      "3 tensor([0.7700, 0.2500, 0.3600])\n",
      "4 tensor([0.0500, 0.8000, 0.7900])\n",
      "5 tensor([0.7700, 0.4600, 0.1200])\n",
      "tensor([[1.0349, 0.9128, 0.5706, 0.7051, 0.8925, 0.5311],\n",
      "        [0.9128, 1.3328, 1.0276, 0.8428, 1.1424, 0.8848],\n",
      "        [0.5706, 1.0276, 0.8865, 0.5043, 0.9596, 0.6012],\n",
      "        [0.7051, 0.8428, 0.5043, 0.7850, 0.5229, 0.7511],\n",
      "        [0.8925, 1.1424, 0.9596, 0.5229, 1.2666, 0.5013],\n",
      "        [0.5311, 0.8848, 0.6012, 0.7511, 0.5013, 0.8189]])\n",
      "tensor([[1., 0., 0., 0., 0., 0.],\n",
      "        [1., 1., 0., 0., 0., 0.],\n",
      "        [1., 1., 1., 0., 0., 0.],\n",
      "        [1., 1., 1., 1., 0., 0.],\n",
      "        [1., 1., 1., 1., 1., 0.],\n",
      "        [1., 1., 1., 1., 1., 1.]])\n",
      "tensor([[1.0000, 0.0000, 0.0000, 0.0000, 0.0000, 0.0000],\n",
      "        [0.3965, 0.6035, 0.0000, 0.0000, 0.0000, 0.0000],\n",
      "        [0.2531, 0.3997, 0.3471, 0.0000, 0.0000, 0.0000],\n",
      "        [0.2470, 0.2834, 0.2020, 0.2675, 0.0000, 0.0000],\n",
      "        [0.1819, 0.2335, 0.1945, 0.1257, 0.2644, 0.0000],\n",
      "        [0.1419, 0.2021, 0.1522, 0.1768, 0.1377, 0.1892]])\n",
      "tensor([[[0.3129,   -inf,   -inf,   -inf,   -inf,   -inf],\n",
      "         [0.1516, 0.2232,   -inf,   -inf,   -inf,   -inf],\n",
      "         [0.0201, 0.0898, 0.0921,   -inf,   -inf,   -inf],\n",
      "         [0.2201, 0.2481, 0.1597, 0.2037,   -inf,   -inf],\n",
      "         [0.1212, 0.1797, 0.1377, 0.1160, 0.1502,   -inf],\n",
      "         [0.1222, 0.1700, 0.1259, 0.1160, 0.1398, 0.1186]],\n",
      "\n",
      "        [[0.3129,   -inf,   -inf,   -inf,   -inf,   -inf],\n",
      "         [0.1516, 0.2232,   -inf,   -inf,   -inf,   -inf],\n",
      "         [0.0201, 0.0898, 0.0921,   -inf,   -inf,   -inf],\n",
      "         [0.2201, 0.2481, 0.1597, 0.2037,   -inf,   -inf],\n",
      "         [0.1212, 0.1797, 0.1377, 0.1160, 0.1502,   -inf],\n",
      "         [0.1222, 0.1700, 0.1259, 0.1160, 0.1398, 0.1186]],\n",
      "\n",
      "        [[0.3129,   -inf,   -inf,   -inf,   -inf,   -inf],\n",
      "         [0.1516, 0.2232,   -inf,   -inf,   -inf,   -inf],\n",
      "         [0.0201, 0.0898, 0.0921,   -inf,   -inf,   -inf],\n",
      "         [0.2201, 0.2481, 0.1597, 0.2037,   -inf,   -inf],\n",
      "         [0.1212, 0.1797, 0.1377, 0.1160, 0.1502,   -inf],\n",
      "         [0.1222, 0.1700, 0.1259, 0.1160, 0.1398, 0.1186]],\n",
      "\n",
      "        [[0.3129,   -inf,   -inf,   -inf,   -inf,   -inf],\n",
      "         [0.1516, 0.2232,   -inf,   -inf,   -inf,   -inf],\n",
      "         [0.0201, 0.0898, 0.0921,   -inf,   -inf,   -inf],\n",
      "         [0.2201, 0.2481, 0.1597, 0.2037,   -inf,   -inf],\n",
      "         [0.1212, 0.1797, 0.1377, 0.1160, 0.1502,   -inf],\n",
      "         [0.1222, 0.1700, 0.1259, 0.1160, 0.1398, 0.1186]],\n",
      "\n",
      "        [[0.3129,   -inf,   -inf,   -inf,   -inf,   -inf],\n",
      "         [0.1516, 0.2232,   -inf,   -inf,   -inf,   -inf],\n",
      "         [0.0201, 0.0898, 0.0921,   -inf,   -inf,   -inf],\n",
      "         [0.2201, 0.2481, 0.1597, 0.2037,   -inf,   -inf],\n",
      "         [0.1212, 0.1797, 0.1377, 0.1160, 0.1502,   -inf],\n",
      "         [0.1222, 0.1700, 0.1259, 0.1160, 0.1398, 0.1186]],\n",
      "\n",
      "        [[0.3129,   -inf,   -inf,   -inf,   -inf,   -inf],\n",
      "         [0.1516, 0.2232,   -inf,   -inf,   -inf,   -inf],\n",
      "         [0.0201, 0.0898, 0.0921,   -inf,   -inf,   -inf],\n",
      "         [0.2201, 0.2481, 0.1597, 0.2037,   -inf,   -inf],\n",
      "         [0.1212, 0.1797, 0.1377, 0.1160, 0.1502,   -inf],\n",
      "         [0.1222, 0.1700, 0.1259, 0.1160, 0.1398, 0.1186]]],\n",
      "       grad_fn=<MaskedFillBackward0>)\n",
      "tensor([[[1.0000, 0.0000, 0.0000, 0.0000, 0.0000, 0.0000],\n",
      "         [0.4874, 0.5126, 0.0000, 0.0000, 0.0000, 0.0000],\n",
      "         [0.3223, 0.3386, 0.3391, 0.0000, 0.0000, 0.0000],\n",
      "         [0.2521, 0.2571, 0.2416, 0.2492, 0.0000, 0.0000],\n",
      "         [0.1972, 0.2055, 0.1995, 0.1965, 0.2013, 0.0000],\n",
      "         [0.1655, 0.1712, 0.1659, 0.1648, 0.1676, 0.1651]],\n",
      "\n",
      "        [[1.0000, 0.0000, 0.0000, 0.0000, 0.0000, 0.0000],\n",
      "         [0.4874, 0.5126, 0.0000, 0.0000, 0.0000, 0.0000],\n",
      "         [0.3223, 0.3386, 0.3391, 0.0000, 0.0000, 0.0000],\n",
      "         [0.2521, 0.2571, 0.2416, 0.2492, 0.0000, 0.0000],\n",
      "         [0.1972, 0.2055, 0.1995, 0.1965, 0.2013, 0.0000],\n",
      "         [0.1655, 0.1712, 0.1659, 0.1648, 0.1676, 0.1651]],\n",
      "\n",
      "        [[1.0000, 0.0000, 0.0000, 0.0000, 0.0000, 0.0000],\n",
      "         [0.4874, 0.5126, 0.0000, 0.0000, 0.0000, 0.0000],\n",
      "         [0.3223, 0.3386, 0.3391, 0.0000, 0.0000, 0.0000],\n",
      "         [0.2521, 0.2571, 0.2416, 0.2492, 0.0000, 0.0000],\n",
      "         [0.1972, 0.2055, 0.1995, 0.1965, 0.2013, 0.0000],\n",
      "         [0.1655, 0.1712, 0.1659, 0.1648, 0.1676, 0.1651]],\n",
      "\n",
      "        [[1.0000, 0.0000, 0.0000, 0.0000, 0.0000, 0.0000],\n",
      "         [0.4874, 0.5126, 0.0000, 0.0000, 0.0000, 0.0000],\n",
      "         [0.3223, 0.3386, 0.3391, 0.0000, 0.0000, 0.0000],\n",
      "         [0.2521, 0.2571, 0.2416, 0.2492, 0.0000, 0.0000],\n",
      "         [0.1972, 0.2055, 0.1995, 0.1965, 0.2013, 0.0000],\n",
      "         [0.1655, 0.1712, 0.1659, 0.1648, 0.1676, 0.1651]],\n",
      "\n",
      "        [[1.0000, 0.0000, 0.0000, 0.0000, 0.0000, 0.0000],\n",
      "         [0.4874, 0.5126, 0.0000, 0.0000, 0.0000, 0.0000],\n",
      "         [0.3223, 0.3386, 0.3391, 0.0000, 0.0000, 0.0000],\n",
      "         [0.2521, 0.2571, 0.2416, 0.2492, 0.0000, 0.0000],\n",
      "         [0.1972, 0.2055, 0.1995, 0.1965, 0.2013, 0.0000],\n",
      "         [0.1655, 0.1712, 0.1659, 0.1648, 0.1676, 0.1651]],\n",
      "\n",
      "        [[1.0000, 0.0000, 0.0000, 0.0000, 0.0000, 0.0000],\n",
      "         [0.4874, 0.5126, 0.0000, 0.0000, 0.0000, 0.0000],\n",
      "         [0.3223, 0.3386, 0.3391, 0.0000, 0.0000, 0.0000],\n",
      "         [0.2521, 0.2571, 0.2416, 0.2492, 0.0000, 0.0000],\n",
      "         [0.1972, 0.2055, 0.1995, 0.1965, 0.2013, 0.0000],\n",
      "         [0.1655, 0.1712, 0.1659, 0.1648, 0.1676, 0.1651]]],\n",
      "       grad_fn=<SoftmaxBackward0>)\n",
      "context_vecs.shape: torch.Size([2, 6, 6])\n"
     ]
    }
   ],
   "source": [
    "from attention import MultiHeadAttention\n",
    "\n",
    "\n",
    "class TransformerBlock(nn.Module):\n",
    "    def __init__(self, cfg):\n",
    "        super().__init__()\n",
    "        self.att = MultiHeadAttention(\n",
    "            d_in=cfg[\"emb_dim\"],\n",
    "            d_out=cfg[\"emb_dim\"],\n",
    "            context_length=cfg[\"context_length\"],\n",
    "            num_heads=cfg[\"n_heads\"], \n",
    "            dropout=cfg[\"drop_rate\"],\n",
    "            qkv_bias=cfg[\"qkv_bias\"])\n",
    "        self.ff = FeedForward(cfg)\n",
    "        self.norm1 = LayerNorm(cfg[\"emb_dim\"])\n",
    "        self.norm2 = LayerNorm(cfg[\"emb_dim\"])\n",
    "        self.drop_shortcut = nn.Dropout(cfg[\"drop_rate\"])\n",
    "\n",
    "    def forward(self, x):\n",
    "        # Shortcut connection for attention block\n",
    "        shortcut = x\n",
    "        x = self.norm1(x)\n",
    "        x = self.att(x)  # Shape [batch_size, num_tokens, emb_size]\n",
    "        x = self.drop_shortcut(x)\n",
    "        x = x + shortcut  # Add the original input back\n",
    "\n",
    "        # Shortcut connection for feed forward block\n",
    "        shortcut = x\n",
    "        x = self.norm2(x)\n",
    "        x = self.ff(x)\n",
    "        x = self.drop_shortcut(x)\n",
    "        x = x + shortcut  # Add the original input back\n",
    "\n",
    "        return x"
   ]
  },
  {
   "cell_type": "code",
   "execution_count": 17,
   "id": "8318a5da-2c80-498f-923c-40841b566754",
   "metadata": {},
   "outputs": [
    {
     "name": "stdout",
     "output_type": "stream",
     "text": [
      "Input shape: torch.Size([2, 4, 1600])\n",
      "Output shape: torch.Size([2, 4, 1600])\n"
     ]
    }
   ],
   "source": [
    "torch.manual_seed(123)\n",
    "\n",
    "x = torch.rand(2, 4, 1600)  # Shape: [batch_size, num_tokens, emb_dim]\n",
    "block = TransformerBlock(GPT_CONFIG_124M)\n",
    "output = block(x)\n",
    "\n",
    "print(\"Input shape:\", x.shape)\n",
    "print(\"Output shape:\", output.shape)"
   ]
  },
  {
   "cell_type": "markdown",
   "id": "619e5135-a25e-4827-bf9d-bc05af2fcab1",
   "metadata": {},
   "source": [
    "# 3.6 Coding The GPT Model"
   ]
  },
  {
   "cell_type": "code",
   "execution_count": 18,
   "id": "e5e327c0-a39f-4b64-991b-897afb37ea4d",
   "metadata": {},
   "outputs": [],
   "source": [
    "class GPTModel(nn.Module):\n",
    "    def __init__(self, cfg):\n",
    "        super().__init__()\n",
    "        self.tok_emb = nn.Embedding(cfg[\"vocab_size\"], cfg[\"emb_dim\"])\n",
    "        self.pos_emb = nn.Embedding(cfg[\"context_length\"], cfg[\"emb_dim\"])\n",
    "        self.drop_emb = nn.Dropout(cfg[\"drop_rate\"])\n",
    "        \n",
    "        self.trf_blocks = nn.Sequential(\n",
    "            *[TransformerBlock(cfg) for _ in range(cfg[\"n_layers\"])])\n",
    "        \n",
    "        self.final_norm = LayerNorm(cfg[\"emb_dim\"])\n",
    "        self.out_head = nn.Linear(\n",
    "            cfg[\"emb_dim\"], cfg[\"vocab_size\"], bias=False\n",
    "        )\n",
    "\n",
    "    def forward(self, in_idx):\n",
    "        batch_size, seq_len = in_idx.shape\n",
    "        tok_embeds = self.tok_emb(in_idx)\n",
    "        pos_embeds = self.pos_emb(torch.arange(seq_len, device=in_idx.device))\n",
    "        x = tok_embeds + pos_embeds  # Shape [batch_size, num_tokens, emb_size]\n",
    "        x = self.drop_emb(x)\n",
    "        x = self.trf_blocks(x)\n",
    "        x = self.final_norm(x)\n",
    "        logits = self.out_head(x)\n",
    "        return logits"
   ]
  },
  {
   "cell_type": "code",
   "execution_count": 19,
   "id": "03be9d08-f03a-452a-bef6-272ef4e6837d",
   "metadata": {},
   "outputs": [
    {
     "name": "stdout",
     "output_type": "stream",
     "text": [
      "Input batch:\n",
      " tensor([[6109, 3626, 6100,  345],\n",
      "        [6109, 1110, 6622,  257]])\n",
      "\n",
      "Output shape: torch.Size([2, 4, 50257])\n",
      "tensor([[[-0.1291,  0.3885,  0.1057,  ...,  0.0180,  0.2309, -0.3901],\n",
      "         [-0.2870, -0.0277, -0.3349,  ..., -0.0724,  0.1030, -0.3322],\n",
      "         [-0.6001, -0.2720,  0.3672,  ...,  0.0804,  0.6928,  0.0880],\n",
      "         [-1.3517, -0.3163,  0.2312,  ...,  0.3396, -0.0351,  0.3853]],\n",
      "\n",
      "        [[-0.1893,  0.3246, -0.1917,  ..., -0.2170,  0.2229, -0.6889],\n",
      "         [ 0.0024, -0.1743, -0.2006,  ...,  0.0684, -0.9490, -0.8778],\n",
      "         [-0.0397,  0.0353,  0.2041,  ..., -0.3985,  0.1638, -0.2869],\n",
      "         [-0.7979,  0.2167, -0.0873,  ...,  0.9055, -0.4025, -0.0753]]],\n",
      "       grad_fn=<UnsafeViewBackward0>)\n"
     ]
    }
   ],
   "source": [
    "torch.manual_seed(123)\n",
    "model = GPTModel(GPT_CONFIG_124M)\n",
    "\n",
    "out = model(batch)\n",
    "print(\"Input batch:\\n\", batch)\n",
    "print(\"\\nOutput shape:\", out.shape)\n",
    "print(out)\n"
   ]
  },
  {
   "cell_type": "code",
   "execution_count": 20,
   "id": "df1e248e-1c91-4853-97ab-0fb64a387f7e",
   "metadata": {},
   "outputs": [
    {
     "name": "stdout",
     "output_type": "stream",
     "text": [
      "Total number of parameters: 1,637,792,000\n"
     ]
    }
   ],
   "source": [
    "total_params = sum(p.numel() for p in model.parameters())\n",
    "print(f\"Total number of parameters: {total_params:,}\")"
   ]
  },
  {
   "cell_type": "code",
   "execution_count": 21,
   "id": "1e699262-3c0b-4927-b7f7-6fc768121983",
   "metadata": {},
   "outputs": [
    {
     "name": "stdout",
     "output_type": "stream",
     "text": [
      "Token embedding layer shape: torch.Size([50257, 1600])\n",
      "Output layer shape: torch.Size([50257, 1600])\n"
     ]
    }
   ],
   "source": [
    "print(\"Token embedding layer shape:\", model.tok_emb.weight.shape)\n",
    "print(\"Output layer shape:\", model.out_head.weight.shape)"
   ]
  },
  {
   "cell_type": "code",
   "execution_count": 22,
   "id": "d544a530-0c9d-4b92-836f-5124ef11910a",
   "metadata": {},
   "outputs": [
    {
     "name": "stdout",
     "output_type": "stream",
     "text": [
      "Number of trainable parameters considering weight tying: 1,557,380,800\n"
     ]
    }
   ],
   "source": [
    "total_params_gpt2 =  total_params - sum(p.numel() for p in model.out_head.parameters())\n",
    "print(f\"Number of trainable parameters considering weight tying: {total_params_gpt2:,}\")"
   ]
  },
  {
   "cell_type": "code",
   "execution_count": 23,
   "id": "987e7ea1-6efa-4ed0-b796-e8e863c293ab",
   "metadata": {},
   "outputs": [
    {
     "name": "stdout",
     "output_type": "stream",
     "text": [
      "Total size of the model: 6247.68 MB\n"
     ]
    }
   ],
   "source": [
    "# Calculate the total size in bytes (assuming float32, 4 bytes per parameter)\n",
    "total_size_bytes = total_params * 4\n",
    "\n",
    "# Convert to megabytes\n",
    "total_size_mb = total_size_bytes / (1024 * 1024)\n",
    "\n",
    "print(f\"Total size of the model: {total_size_mb:.2f} MB\")"
   ]
  },
  {
   "cell_type": "markdown",
   "id": "07e3e7d7-30cb-4d1e-a338-2890d55b5df5",
   "metadata": {},
   "source": [
    "# 3.7 Generating Text"
   ]
  },
  {
   "cell_type": "code",
   "execution_count": 24,
   "id": "305d0289-4840-497d-a29e-2247f4ebfc49",
   "metadata": {},
   "outputs": [],
   "source": [
    "def generate_text_simple(model, idx, max_new_tokens, context_size):\n",
    "    # idx is (batch, n_tokens) array of indices in the current context\n",
    "    for _ in range(max_new_tokens):\n",
    "        \n",
    "        idx_cond = idx[:, -context_size:]\n",
    "        \n",
    "        # Get the predictions\n",
    "        with torch.no_grad():\n",
    "            logits = model(idx_cond)\n",
    "\n",
    "        logits = logits[:, -1, :]  \n",
    "\n",
    "        # Apply softmax to get probabilities\n",
    "        probas = torch.softmax(logits, dim=-1)  # (batch, vocab_size)\n",
    "\n",
    "        # Get the idx of the vocab entry with the highest probability value\n",
    "        idx_next = torch.argmax(probas, dim=-1, keepdim=True)  # (batch, 1)\n",
    "\n",
    "        # Append sampled index to the running sequence\n",
    "        idx = torch.cat((idx, idx_next), dim=1)  # (batch, n_tokens+1)\n",
    "\n",
    "    return idx"
   ]
  },
  {
   "cell_type": "code",
   "execution_count": 25,
   "id": "a8e90c91-0e0b-4b57-8393-535769ae8492",
   "metadata": {},
   "outputs": [
    {
     "name": "stdout",
     "output_type": "stream",
     "text": [
      "encoded: [15496, 11, 314, 716]\n",
      "encoded_tensor.shape: torch.Size([1, 4])\n"
     ]
    }
   ],
   "source": [
    "start_context = \"Hello, I am\"\n",
    "\n",
    "encoded = tokenizer.encode(start_context)\n",
    "print(\"encoded:\", encoded)\n",
    "\n",
    "encoded_tensor = torch.tensor(encoded).unsqueeze(0)\n",
    "print(\"encoded_tensor.shape:\", encoded_tensor.shape)"
   ]
  },
  {
   "cell_type": "code",
   "execution_count": 26,
   "id": "90226b92-2456-47f1-b218-bcdde301a00b",
   "metadata": {},
   "outputs": [
    {
     "name": "stdout",
     "output_type": "stream",
     "text": [
      "Output: tensor([[15496,    11,   314,   716, 25307,  7702, 20644, 13679, 12023, 29430]])\n",
      "Output length: 10\n"
     ]
    }
   ],
   "source": [
    "model.eval() # disable dropout\n",
    "\n",
    "out = generate_text_simple(\n",
    "    model=model,\n",
    "    idx=encoded_tensor, \n",
    "    max_new_tokens=6, \n",
    "    context_size=GPT_CONFIG_124M[\"context_length\"]\n",
    ")\n",
    "\n",
    "print(\"Output:\", out)\n",
    "print(\"Output length:\", len(out[0]))"
   ]
  },
  {
   "cell_type": "code",
   "execution_count": 27,
   "id": "3677f732-c51b-4424-90ed-0848feeec671",
   "metadata": {},
   "outputs": [
    {
     "name": "stdout",
     "output_type": "stream",
     "text": [
      "Hello, I am 164 radicalBrown!' beef KR\n"
     ]
    }
   ],
   "source": [
    "decoded_text = tokenizer.decode(out.squeeze(0).tolist())\n",
    "print(decoded_text)"
   ]
  }
 ],
 "metadata": {
  "kernelspec": {
   "display_name": "Python 3 (ipykernel)",
   "language": "python",
   "name": "python3"
  },
  "language_info": {
   "codemirror_mode": {
    "name": "ipython",
    "version": 3
   },
   "file_extension": ".py",
   "mimetype": "text/x-python",
   "name": "python",
   "nbconvert_exporter": "python",
   "pygments_lexer": "ipython3",
   "version": "3.11.9"
  }
 },
 "nbformat": 4,
 "nbformat_minor": 5
}
