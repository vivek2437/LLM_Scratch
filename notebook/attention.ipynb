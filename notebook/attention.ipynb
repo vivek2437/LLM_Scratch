{
 "cells": [
  {
   "cell_type": "markdown",
   "id": "93f287cd-0a73-42b9-897e-8491bc730586",
   "metadata": {},
   "source": [
    "# 2 Attention Mechanisms"
   ]
  },
  {
   "cell_type": "markdown",
   "id": "fd50cca7-d688-4112-8e14-912a8690f7b1",
   "metadata": {},
   "source": [
    "# 2.1 A Simple Self-Attention Mechanism Without Trainable Weights"
   ]
  },
  {
   "cell_type": "code",
   "execution_count": 2,
   "id": "2ed9abaa-9cb3-459b-a356-51dfda884aba",
   "metadata": {},
   "outputs": [],
   "source": [
    "import torch\n",
    "\n",
    "inputs= torch.tensor(\n",
    "    [[0.43,0.20,0.90],\n",
    "     [0.56,0.84,0.56],\n",
    "     [0.22,0.85,0.34],\n",
    "     [0.77,0.25,0.36],\n",
    "     [0.05,0.80,0.79],\n",
    "     [0.77,0.46,0.12]]\n",
    ")   "
   ]
  },
  {
   "cell_type": "code",
   "execution_count": 3,
   "id": "9094ab02-ac69-4490-878d-f80466f27565",
   "metadata": {},
   "outputs": [],
   "source": [
    "input_query= inputs[1]"
   ]
  },
  {
   "cell_type": "code",
   "execution_count": 4,
   "id": "7bf89b74-7de6-489d-b96b-2ddc06895127",
   "metadata": {},
   "outputs": [],
   "source": [
    "input_1= inputs[0]"
   ]
  },
  {
   "cell_type": "code",
   "execution_count": 5,
   "id": "b2c71d43-c9e4-4bf7-be41-3374939852b7",
   "metadata": {},
   "outputs": [
    {
     "name": "stdout",
     "output_type": "stream",
     "text": [
      "tensor(0.9128)\n"
     ]
    }
   ],
   "source": [
    "res =0\n",
    "i=0\n",
    "res = torch.dot(inputs[i],input_query)\n",
    "print(res)   "
   ]
  },
  {
   "cell_type": "code",
   "execution_count": 6,
   "id": "a1090bfb-9d35-4df6-ae72-5733da0b6faf",
   "metadata": {},
   "outputs": [
    {
     "name": "stdout",
     "output_type": "stream",
     "text": [
      "tensor([0.9128, 1.3328, 1.0276, 0.8428, 1.1424, 0.8848])\n"
     ]
    }
   ],
   "source": [
    "query=inputs[1]\n",
    "\n",
    "atten_scores_2 = torch.empty(inputs.shape[0])\n",
    "\n",
    "for i,x_i in enumerate(inputs):\n",
    "    atten_scores_2[i]=torch.dot(x_i,query)\n",
    "\n",
    "print(atten_scores_2)"
   ]
  },
  {
   "cell_type": "code",
   "execution_count": 7,
   "id": "3f7493b3-41c8-4d9a-a8f8-fb3055044eaa",
   "metadata": {},
   "outputs": [
    {
     "data": {
      "text/plain": [
       "tensor([0.1486, 0.2170, 0.1673, 0.1372, 0.1860, 0.1440])"
      ]
     },
     "execution_count": 7,
     "metadata": {},
     "output_type": "execute_result"
    }
   ],
   "source": [
    "attn_weights_2_tmp= atten_scores_2 / atten_scores_2.sum()\n",
    "\n",
    "attn_weights_2_tmp"
   ]
  },
  {
   "cell_type": "code",
   "execution_count": 8,
   "id": "9317e0b4-603e-469c-9c73-1c1071bba21f",
   "metadata": {},
   "outputs": [
    {
     "data": {
      "text/plain": [
       "tensor(1.)"
      ]
     },
     "execution_count": 8,
     "metadata": {},
     "output_type": "execute_result"
    }
   ],
   "source": [
    "attn_weights_2_tmp.sum()"
   ]
  },
  {
   "cell_type": "code",
   "execution_count": 9,
   "id": "dfb7a88c-f4f9-4f07-8b68-ab7f83cbd024",
   "metadata": {},
   "outputs": [
    {
     "data": {
      "text/plain": [
       "tensor([0.1469, 0.2236, 0.1648, 0.1370, 0.1848, 0.1429])"
      ]
     },
     "execution_count": 9,
     "metadata": {},
     "output_type": "execute_result"
    }
   ],
   "source": [
    "def softmax_navie(x):\n",
    "    return torch.exp(x) / torch.exp(x).sum(dim=0)\n",
    "\n",
    "softmax_navie(atten_scores_2)"
   ]
  },
  {
   "cell_type": "code",
   "execution_count": 10,
   "id": "be6c57ae-39c7-44e9-8ea4-2fa8beb7182c",
   "metadata": {},
   "outputs": [],
   "source": [
    "atten_weights_2=torch.softmax(atten_scores_2 ,dim=0)"
   ]
  },
  {
   "cell_type": "code",
   "execution_count": 11,
   "id": "db0cd764-1012-469b-a5e0-1cefb88bdc01",
   "metadata": {},
   "outputs": [
    {
     "name": "stdout",
     "output_type": "stream",
     "text": [
      "0.1469186246395111 ----> tensor([0.4300, 0.2000, 0.9000])\n",
      "0.2236044555902481 ----> tensor([0.5600, 0.8400, 0.5600])\n",
      "0.16479112207889557 ----> tensor([0.2200, 0.8500, 0.3400])\n",
      "0.13698600232601166 ----> tensor([0.7700, 0.2500, 0.3600])\n",
      "0.18483781814575195 ----> tensor([0.0500, 0.8000, 0.7900])\n",
      "0.14286194741725922 ----> tensor([0.7700, 0.4600, 0.1200])\n",
      "tensor([0.4494, 0.6051, 0.5260])\n"
     ]
    }
   ],
   "source": [
    "query = inputs[1]\n",
    "\n",
    "context_vec_2 = torch.zeros(query.shape)\n",
    "for i,x_i in enumerate(inputs):\n",
    "\n",
    "    print(f\"{atten_weights_2[i]} ----> {inputs[i]}\")\n",
    "    context_vec_2+= atten_weights_2[i]*x_i\n",
    "\n",
    "print(context_vec_2)"
   ]
  },
  {
   "cell_type": "code",
   "execution_count": 12,
   "id": "eaa40a54-4e72-4791-bf0d-b4c5259c9f79",
   "metadata": {},
   "outputs": [
    {
     "name": "stdout",
     "output_type": "stream",
     "text": [
      "0 tensor([0.4300, 0.2000, 0.9000])\n",
      "1 tensor([0.5600, 0.8400, 0.5600])\n",
      "2 tensor([0.2200, 0.8500, 0.3400])\n",
      "3 tensor([0.7700, 0.2500, 0.3600])\n",
      "4 tensor([0.0500, 0.8000, 0.7900])\n",
      "5 tensor([0.7700, 0.4600, 0.1200])\n"
     ]
    }
   ],
   "source": [
    "for i,x_i in enumerate(inputs):\n",
    "    print(i, inputs[i])  # i_x is the index, i is the tensor row\n"
   ]
  },
  {
   "cell_type": "markdown",
   "id": "b4d90b2a-50c9-40e8-8ca9-2391cc20759e",
   "metadata": {},
   "source": [
    "# 2.2 Computing attention weights for all input tokens"
   ]
  },
  {
   "cell_type": "code",
   "execution_count": 13,
   "id": "d32f38b0-5199-4d7c-ac40-2f168cf7a4ee",
   "metadata": {},
   "outputs": [
    {
     "name": "stdout",
     "output_type": "stream",
     "text": [
      "tensor([[1.0349, 0.9128, 0.5706, 0.7051, 0.8925, 0.5311],\n",
      "        [0.9128, 1.3328, 1.0276, 0.8428, 1.1424, 0.8848],\n",
      "        [0.5706, 1.0276, 0.8865, 0.5043, 0.9596, 0.6012],\n",
      "        [0.7051, 0.8428, 0.5043, 0.7850, 0.5229, 0.7511],\n",
      "        [0.8925, 1.1424, 0.9596, 0.5229, 1.2666, 0.5013],\n",
      "        [0.5311, 0.8848, 0.6012, 0.7511, 0.5013, 0.8189]])\n"
     ]
    }
   ],
   "source": [
    "attn_scores = torch.empty(6,6)\n",
    "\n",
    "for i,x_i in enumerate(inputs):\n",
    "    for j,x_j in enumerate(inputs):\n",
    "     attn_scores[i,j]= torch.dot(x_i,x_j)\n",
    "\n",
    "print(attn_scores)"
   ]
  },
  {
   "cell_type": "code",
   "execution_count": 14,
   "id": "ea67b21a-cfee-43e6-936e-e65d3725bd36",
   "metadata": {},
   "outputs": [],
   "source": [
    "attn_weights = torch.softmax(attn_scores,dim=1)"
   ]
  },
  {
   "cell_type": "code",
   "execution_count": 15,
   "id": "77145b39-66ce-4198-927d-85addafc2f44",
   "metadata": {},
   "outputs": [
    {
     "data": {
      "text/plain": [
       "tensor([[0.2126, 0.1881, 0.1336, 0.1529, 0.1844, 0.1284],\n",
       "        [0.1469, 0.2236, 0.1648, 0.1370, 0.1848, 0.1429],\n",
       "        [0.1353, 0.2136, 0.1855, 0.1266, 0.1996, 0.1395],\n",
       "        [0.1687, 0.1935, 0.1380, 0.1827, 0.1406, 0.1766],\n",
       "        [0.1620, 0.2079, 0.1732, 0.1119, 0.2354, 0.1095],\n",
       "        [0.1419, 0.2021, 0.1522, 0.1768, 0.1377, 0.1892]])"
      ]
     },
     "execution_count": 15,
     "metadata": {},
     "output_type": "execute_result"
    }
   ],
   "source": [
    "attn_weights"
   ]
  },
  {
   "cell_type": "markdown",
   "id": "0f01abfa-c623-4186-8bbe-62012ca49ffc",
   "metadata": {},
   "source": [
    "# 2.3 Implementing self-attention with trainable weights"
   ]
  },
  {
   "cell_type": "markdown",
   "id": "61423ce0-b0fd-455a-b99f-9270f3ce015c",
   "metadata": {},
   "source": [
    "# 2.3.1 Computing the attention weights step by step"
   ]
  },
  {
   "cell_type": "code",
   "execution_count": 16,
   "id": "de8beb9d-25a8-4dd8-9122-a30631a6f39b",
   "metadata": {},
   "outputs": [],
   "source": [
    "x_2 = inputs[1]\n",
    "\n",
    "d_in= inputs.shape[1]\n",
    "\n",
    "d_out=2"
   ]
  },
  {
   "cell_type": "code",
   "execution_count": 17,
   "id": "29bf4ab2-73ff-48b0-ab49-812fc79152da",
   "metadata": {},
   "outputs": [],
   "source": [
    "torch.manual_seed(123)\n",
    "\n",
    "W_query = torch.nn.Parameter(torch.rand(d_in ,d_out))\n",
    "W_key = torch.nn.Parameter(torch.rand(d_in,d_out))\n",
    "W_value = torch.nn.Parameter(torch.rand(d_in,d_out))"
   ]
  },
  {
   "cell_type": "code",
   "execution_count": 18,
   "id": "6ff7d027-86c6-408e-972f-f1e138627180",
   "metadata": {},
   "outputs": [
    {
     "data": {
      "text/plain": [
       "tensor([0.4187, 1.3529], grad_fn=<SqueezeBackward4>)"
      ]
     },
     "execution_count": 18,
     "metadata": {},
     "output_type": "execute_result"
    }
   ],
   "source": [
    "query_2 = x_2 @ W_query\n",
    "\n",
    "query_2"
   ]
  },
  {
   "cell_type": "code",
   "execution_count": 19,
   "id": "1d35112c-5879-4444-a09e-014e9c4ca498",
   "metadata": {},
   "outputs": [
    {
     "data": {
      "text/plain": [
       "torch.Size([6, 2])"
      ]
     },
     "execution_count": 19,
     "metadata": {},
     "output_type": "execute_result"
    }
   ],
   "source": [
    "keys= inputs @W_key\n",
    "value=inputs @W_value\n",
    "\n",
    "keys.shape"
   ]
  },
  {
   "cell_type": "code",
   "execution_count": 20,
   "id": "c5701b18-efb4-4ae7-a0bf-574eb9383d7f",
   "metadata": {},
   "outputs": [],
   "source": [
    "keys_2 =keys[1]\n",
    "\n",
    "attn_score_22=torch.dot(query_2 ,keys_2)"
   ]
  },
  {
   "cell_type": "code",
   "execution_count": 21,
   "id": "b0de8475-4d67-4b30-ab95-b2667dc0a9d4",
   "metadata": {},
   "outputs": [
    {
     "data": {
      "text/plain": [
       "tensor(1.5944, grad_fn=<DotBackward0>)"
      ]
     },
     "execution_count": 21,
     "metadata": {},
     "output_type": "execute_result"
    }
   ],
   "source": [
    "attn_score_22"
   ]
  },
  {
   "cell_type": "code",
   "execution_count": 22,
   "id": "8498c3fd-8ebe-43be-bbaa-3f9fe6399b38",
   "metadata": {},
   "outputs": [
    {
     "data": {
      "text/plain": [
       "tensor([1.2516, 1.5944, 1.3049, 0.7979, 1.6963, 0.7657],\n",
       "       grad_fn=<SqueezeBackward4>)"
      ]
     },
     "execution_count": 22,
     "metadata": {},
     "output_type": "execute_result"
    }
   ],
   "source": [
    "attn_scores_2= query_2 @ keys.T\n",
    "\n",
    "attn_scores_2"
   ]
  },
  {
   "cell_type": "code",
   "execution_count": 23,
   "id": "1094886f-0282-467d-a20f-55124257b5be",
   "metadata": {},
   "outputs": [
    {
     "data": {
      "text/plain": [
       "tensor([0.1635, 0.2083, 0.1698, 0.1186, 0.2239, 0.1159],\n",
       "       grad_fn=<SoftmaxBackward0>)"
      ]
     },
     "execution_count": 23,
     "metadata": {},
     "output_type": "execute_result"
    }
   ],
   "source": [
    "d_k=keys.shape[1]\n",
    "\n",
    "attn_weights_2=torch.softmax(attn_scores_2/d_k**0.5,dim=-1)\n",
    "attn_weights_2"
   ]
  },
  {
   "cell_type": "code",
   "execution_count": 24,
   "id": "8203c9ce-ee6b-4f0d-b5b4-0685efce2ad6",
   "metadata": {},
   "outputs": [
    {
     "data": {
      "text/plain": [
       "tensor([0.2916, 0.7877], grad_fn=<SqueezeBackward4>)"
      ]
     },
     "execution_count": 24,
     "metadata": {},
     "output_type": "execute_result"
    }
   ],
   "source": [
    "context_vec_2 = attn_weights_2 @ value\n",
    "\n",
    "context_vec_2"
   ]
  },
  {
   "cell_type": "markdown",
   "id": "d5fb849e-0ab5-4bc4-a17e-0bc4bac758f8",
   "metadata": {},
   "source": [
    "# 2.4 Implementing a compact SelfAttention Class"
   ]
  },
  {
   "cell_type": "code",
   "execution_count": 25,
   "id": "161cabf7-7336-40f3-a753-f1ba2dff5758",
   "metadata": {},
   "outputs": [
    {
     "data": {
      "text/plain": [
       "tensor([[0.2772, 0.7753],\n",
       "        [0.2878, 0.7666],\n",
       "        [0.2910, 0.7680],\n",
       "        [0.2723, 0.7374],\n",
       "        [0.2937, 0.7932],\n",
       "        [0.2754, 0.7298]], grad_fn=<MmBackward0>)"
      ]
     },
     "execution_count": 25,
     "metadata": {},
     "output_type": "execute_result"
    }
   ],
   "source": [
    "import torch.nn as nn\n",
    "\n",
    "class SelfAttention_v1(nn.Module):\n",
    "\n",
    "    def __init__(self,d_in,d_out):\n",
    "     super().__init__()\n",
    "     self.W_query = torch.nn.Parameter(torch.rand(d_in ,d_out))\n",
    "     self.W_key = torch.nn.Parameter(torch.rand(d_in,d_out))\n",
    "     self.W_value = torch.nn.Parameter(torch.rand(d_in,d_out))\n",
    "\n",
    "    def forward(self,x):\n",
    "        queries=inputs @ W_query\n",
    "        keys=inputs @W_key\n",
    "        values=inputs @W_value\n",
    "\n",
    "        attn_scores=queries @ keys.T\n",
    "        attn_weighs= torch.softmax(attn_scores / d_k**0.5,dim=-1)\n",
    "        context_vec = attn_weights @ values\n",
    "\n",
    "        \n",
    "        return context_vec\n",
    "\n",
    "torch.manual_seed(123)\n",
    "sa_v1 =SelfAttention_v1(d_in,d_out)\n",
    "sa_v1(inputs)"
   ]
  },
  {
   "cell_type": "code",
   "execution_count": 26,
   "id": "3d06961c-2595-4841-9996-791848f75a54",
   "metadata": {},
   "outputs": [
    {
     "data": {
      "text/plain": [
       "tensor([[-0.5356, -0.0864],\n",
       "        [-0.5437, -0.1187],\n",
       "        [-0.5406, -0.1238],\n",
       "        [-0.5433, -0.1087],\n",
       "        [-0.5355, -0.1077],\n",
       "        [-0.5460, -0.1225]], grad_fn=<MmBackward0>)"
      ]
     },
     "execution_count": 26,
     "metadata": {},
     "output_type": "execute_result"
    }
   ],
   "source": [
    "import torch.nn as nn\n",
    "\n",
    "class SelfAttention_v2(nn.Module):\n",
    "\n",
    "    def __init__(self,d_in,d_out,qkv_bias=False):\n",
    "     super().__init__()\n",
    "     self.W_query = torch.nn.Linear(d_in ,d_out,bias=qkv_bias)\n",
    "     self.W_key = torch.nn.Linear(d_in,d_out,bias=qkv_bias)\n",
    "     self.W_value = torch.nn.Linear(d_in,d_out,bias=qkv_bias)\n",
    "\n",
    "    def forward(self,x):\n",
    "        queries=self.W_query(inputs)\n",
    "        keys=self.W_key(inputs)\n",
    "        values=self.W_value(inputs)\n",
    "\n",
    "        attn_scores=queries @ keys.T\n",
    "        attn_weighs= torch.softmax(attn_scores / d_k**0.5,dim=-1)\n",
    "        context_vec = attn_weights @ values\n",
    "\n",
    "        \n",
    "        return context_vec\n",
    "\n",
    "torch.manual_seed(123)\n",
    "sa_v2 =SelfAttention_v2(d_in,d_out)\n",
    "sa_v2(inputs)"
   ]
  },
  {
   "cell_type": "markdown",
   "id": "b9ce7006-f4e0-4b41-8354-4a3d460d7cbf",
   "metadata": {},
   "source": [
    "# 2.5 Hiding future words with casual attention "
   ]
  },
  {
   "cell_type": "markdown",
   "id": "21c710c5-c699-409c-9ffa-fcf5f13a5255",
   "metadata": {},
   "source": [
    "# Applying a casual attention mask"
   ]
  },
  {
   "cell_type": "code",
   "execution_count": 27,
   "id": "dd6d2300-e5a1-44ca-98f4-93227d549bc6",
   "metadata": {},
   "outputs": [],
   "source": [
    "queries=sa_v2.W_query(inputs)\n",
    "keys=sa_v2.W_key(inputs)\n",
    "values=sa_v2.W_value(inputs)\n",
    "\n",
    "attn_scores=queries @ keys.T\n",
    "attn_weighs= torch.softmax(attn_scores / d_k**0.5,dim=-1)"
   ]
  },
  {
   "cell_type": "code",
   "execution_count": 28,
   "id": "aebf44fa-5dbd-4fd7-8a84-1842052b8b5f",
   "metadata": {},
   "outputs": [
    {
     "name": "stdout",
     "output_type": "stream",
     "text": [
      "tensor([[1., 0., 0., 0., 0., 0.],\n",
      "        [1., 1., 0., 0., 0., 0.],\n",
      "        [1., 1., 1., 0., 0., 0.],\n",
      "        [1., 1., 1., 1., 0., 0.],\n",
      "        [1., 1., 1., 1., 1., 0.],\n",
      "        [1., 1., 1., 1., 1., 1.]])\n"
     ]
    }
   ],
   "source": [
    "context_length = attn_scores.shape[0]\n",
    "\n",
    "mask_simple =torch.tril(torch.ones(context_length, context_length))\n",
    "                        \n",
    "print(mask_simple)"
   ]
  },
  {
   "cell_type": "code",
   "execution_count": 29,
   "id": "3f3e30aa-b3b3-4c62-9d58-97cd77774c5b",
   "metadata": {},
   "outputs": [
    {
     "data": {
      "text/plain": [
       "tensor([[0.2126, 0.0000, 0.0000, 0.0000, 0.0000, 0.0000],\n",
       "        [0.1469, 0.2236, 0.0000, 0.0000, 0.0000, 0.0000],\n",
       "        [0.1353, 0.2136, 0.1855, 0.0000, 0.0000, 0.0000],\n",
       "        [0.1687, 0.1935, 0.1380, 0.1827, 0.0000, 0.0000],\n",
       "        [0.1620, 0.2079, 0.1732, 0.1119, 0.2354, 0.0000],\n",
       "        [0.1419, 0.2021, 0.1522, 0.1768, 0.1377, 0.1892]])"
      ]
     },
     "execution_count": 29,
     "metadata": {},
     "output_type": "execute_result"
    }
   ],
   "source": [
    "masked_simple =attn_weights * mask_simple\n",
    "masked_simple"
   ]
  },
  {
   "cell_type": "code",
   "execution_count": 30,
   "id": "ec1c3ed0-0bfa-458c-8311-e7d531623616",
   "metadata": {},
   "outputs": [
    {
     "name": "stdout",
     "output_type": "stream",
     "text": [
      "tensor([[1.0000, 0.0000, 0.0000, 0.0000, 0.0000, 0.0000],\n",
      "        [0.3965, 0.6035, 0.0000, 0.0000, 0.0000, 0.0000],\n",
      "        [0.2531, 0.3997, 0.3471, 0.0000, 0.0000, 0.0000],\n",
      "        [0.2470, 0.2834, 0.2020, 0.2675, 0.0000, 0.0000],\n",
      "        [0.1819, 0.2335, 0.1945, 0.1257, 0.2644, 0.0000],\n",
      "        [0.1419, 0.2021, 0.1522, 0.1768, 0.1377, 0.1892]])\n"
     ]
    }
   ],
   "source": [
    "row_sums =masked_simple.sum(dim=-1 ,keepdim=True)\n",
    "masked_simple_norm =masked_simple / row_sums\n",
    "print(masked_simple_norm)"
   ]
  },
  {
   "cell_type": "code",
   "execution_count": 31,
   "id": "72775da6-4e1b-4075-8cae-cb7c6279e9be",
   "metadata": {},
   "outputs": [
    {
     "name": "stdout",
     "output_type": "stream",
     "text": [
      "tensor([[[0.3129,   -inf,   -inf,   -inf,   -inf,   -inf],\n",
      "         [0.1516, 0.2232,   -inf,   -inf,   -inf,   -inf],\n",
      "         [0.0201, 0.0898, 0.0921,   -inf,   -inf,   -inf],\n",
      "         [0.2201, 0.2481, 0.1597, 0.2037,   -inf,   -inf],\n",
      "         [0.1212, 0.1797, 0.1377, 0.1160, 0.1502,   -inf],\n",
      "         [0.1222, 0.1700, 0.1259, 0.1160, 0.1398, 0.1186]],\n",
      "\n",
      "        [[0.3129,   -inf,   -inf,   -inf,   -inf,   -inf],\n",
      "         [0.1516, 0.2232,   -inf,   -inf,   -inf,   -inf],\n",
      "         [0.0201, 0.0898, 0.0921,   -inf,   -inf,   -inf],\n",
      "         [0.2201, 0.2481, 0.1597, 0.2037,   -inf,   -inf],\n",
      "         [0.1212, 0.1797, 0.1377, 0.1160, 0.1502,   -inf],\n",
      "         [0.1222, 0.1700, 0.1259, 0.1160, 0.1398, 0.1186]],\n",
      "\n",
      "        [[0.3129,   -inf,   -inf,   -inf,   -inf,   -inf],\n",
      "         [0.1516, 0.2232,   -inf,   -inf,   -inf,   -inf],\n",
      "         [0.0201, 0.0898, 0.0921,   -inf,   -inf,   -inf],\n",
      "         [0.2201, 0.2481, 0.1597, 0.2037,   -inf,   -inf],\n",
      "         [0.1212, 0.1797, 0.1377, 0.1160, 0.1502,   -inf],\n",
      "         [0.1222, 0.1700, 0.1259, 0.1160, 0.1398, 0.1186]],\n",
      "\n",
      "        [[0.3129,   -inf,   -inf,   -inf,   -inf,   -inf],\n",
      "         [0.1516, 0.2232,   -inf,   -inf,   -inf,   -inf],\n",
      "         [0.0201, 0.0898, 0.0921,   -inf,   -inf,   -inf],\n",
      "         [0.2201, 0.2481, 0.1597, 0.2037,   -inf,   -inf],\n",
      "         [0.1212, 0.1797, 0.1377, 0.1160, 0.1502,   -inf],\n",
      "         [0.1222, 0.1700, 0.1259, 0.1160, 0.1398, 0.1186]],\n",
      "\n",
      "        [[0.3129,   -inf,   -inf,   -inf,   -inf,   -inf],\n",
      "         [0.1516, 0.2232,   -inf,   -inf,   -inf,   -inf],\n",
      "         [0.0201, 0.0898, 0.0921,   -inf,   -inf,   -inf],\n",
      "         [0.2201, 0.2481, 0.1597, 0.2037,   -inf,   -inf],\n",
      "         [0.1212, 0.1797, 0.1377, 0.1160, 0.1502,   -inf],\n",
      "         [0.1222, 0.1700, 0.1259, 0.1160, 0.1398, 0.1186]],\n",
      "\n",
      "        [[0.3129,   -inf,   -inf,   -inf,   -inf,   -inf],\n",
      "         [0.1516, 0.2232,   -inf,   -inf,   -inf,   -inf],\n",
      "         [0.0201, 0.0898, 0.0921,   -inf,   -inf,   -inf],\n",
      "         [0.2201, 0.2481, 0.1597, 0.2037,   -inf,   -inf],\n",
      "         [0.1212, 0.1797, 0.1377, 0.1160, 0.1502,   -inf],\n",
      "         [0.1222, 0.1700, 0.1259, 0.1160, 0.1398, 0.1186]]],\n",
      "       grad_fn=<MaskedFillBackward0>)\n"
     ]
    }
   ],
   "source": [
    "mask = torch.triu(torch.ones(context_length,context_length,context_length),diagonal=1)\n",
    "masked= attn_scores.masked_fill(mask.bool(), -torch.inf)\n",
    "print(masked)"
   ]
  },
  {
   "cell_type": "code",
   "execution_count": 32,
   "id": "919562cc-baf2-416a-87b5-11ed0a228c12",
   "metadata": {},
   "outputs": [
    {
     "name": "stdout",
     "output_type": "stream",
     "text": [
      "tensor([[[1.0000, 0.0000, 0.0000, 0.0000, 0.0000, 0.0000],\n",
      "         [0.4874, 0.5126, 0.0000, 0.0000, 0.0000, 0.0000],\n",
      "         [0.3223, 0.3386, 0.3391, 0.0000, 0.0000, 0.0000],\n",
      "         [0.2521, 0.2571, 0.2416, 0.2492, 0.0000, 0.0000],\n",
      "         [0.1972, 0.2055, 0.1995, 0.1965, 0.2013, 0.0000],\n",
      "         [0.1655, 0.1712, 0.1659, 0.1648, 0.1676, 0.1651]],\n",
      "\n",
      "        [[1.0000, 0.0000, 0.0000, 0.0000, 0.0000, 0.0000],\n",
      "         [0.4874, 0.5126, 0.0000, 0.0000, 0.0000, 0.0000],\n",
      "         [0.3223, 0.3386, 0.3391, 0.0000, 0.0000, 0.0000],\n",
      "         [0.2521, 0.2571, 0.2416, 0.2492, 0.0000, 0.0000],\n",
      "         [0.1972, 0.2055, 0.1995, 0.1965, 0.2013, 0.0000],\n",
      "         [0.1655, 0.1712, 0.1659, 0.1648, 0.1676, 0.1651]],\n",
      "\n",
      "        [[1.0000, 0.0000, 0.0000, 0.0000, 0.0000, 0.0000],\n",
      "         [0.4874, 0.5126, 0.0000, 0.0000, 0.0000, 0.0000],\n",
      "         [0.3223, 0.3386, 0.3391, 0.0000, 0.0000, 0.0000],\n",
      "         [0.2521, 0.2571, 0.2416, 0.2492, 0.0000, 0.0000],\n",
      "         [0.1972, 0.2055, 0.1995, 0.1965, 0.2013, 0.0000],\n",
      "         [0.1655, 0.1712, 0.1659, 0.1648, 0.1676, 0.1651]],\n",
      "\n",
      "        [[1.0000, 0.0000, 0.0000, 0.0000, 0.0000, 0.0000],\n",
      "         [0.4874, 0.5126, 0.0000, 0.0000, 0.0000, 0.0000],\n",
      "         [0.3223, 0.3386, 0.3391, 0.0000, 0.0000, 0.0000],\n",
      "         [0.2521, 0.2571, 0.2416, 0.2492, 0.0000, 0.0000],\n",
      "         [0.1972, 0.2055, 0.1995, 0.1965, 0.2013, 0.0000],\n",
      "         [0.1655, 0.1712, 0.1659, 0.1648, 0.1676, 0.1651]],\n",
      "\n",
      "        [[1.0000, 0.0000, 0.0000, 0.0000, 0.0000, 0.0000],\n",
      "         [0.4874, 0.5126, 0.0000, 0.0000, 0.0000, 0.0000],\n",
      "         [0.3223, 0.3386, 0.3391, 0.0000, 0.0000, 0.0000],\n",
      "         [0.2521, 0.2571, 0.2416, 0.2492, 0.0000, 0.0000],\n",
      "         [0.1972, 0.2055, 0.1995, 0.1965, 0.2013, 0.0000],\n",
      "         [0.1655, 0.1712, 0.1659, 0.1648, 0.1676, 0.1651]],\n",
      "\n",
      "        [[1.0000, 0.0000, 0.0000, 0.0000, 0.0000, 0.0000],\n",
      "         [0.4874, 0.5126, 0.0000, 0.0000, 0.0000, 0.0000],\n",
      "         [0.3223, 0.3386, 0.3391, 0.0000, 0.0000, 0.0000],\n",
      "         [0.2521, 0.2571, 0.2416, 0.2492, 0.0000, 0.0000],\n",
      "         [0.1972, 0.2055, 0.1995, 0.1965, 0.2013, 0.0000],\n",
      "         [0.1655, 0.1712, 0.1659, 0.1648, 0.1676, 0.1651]]],\n",
      "       grad_fn=<SoftmaxBackward0>)\n"
     ]
    }
   ],
   "source": [
    "attn_weights=torch.softmax(masked /keys.shape[-1]**0.5,dim=-1)\n",
    "print(attn_weights)"
   ]
  },
  {
   "cell_type": "markdown",
   "id": "3dc592bc-3983-4e59-9251-dedcd1edf494",
   "metadata": {},
   "source": [
    "# Masking additional attention weights with dropout"
   ]
  },
  {
   "cell_type": "code",
   "execution_count": 34,
   "id": "68b67de2-b4f9-4952-beef-22f13f953efd",
   "metadata": {},
   "outputs": [],
   "source": [
    "torch.manual_seed(123)\n",
    "\n",
    "layer=torch.nn.Dropout(0.5)\n"
   ]
  },
  {
   "cell_type": "code",
   "execution_count": 35,
   "id": "6f57ec38-71d0-4ca3-9938-2d980b7fb869",
   "metadata": {},
   "outputs": [
    {
     "data": {
      "text/plain": [
       "1.4285714285714286"
      ]
     },
     "execution_count": 35,
     "metadata": {},
     "output_type": "execute_result"
    }
   ],
   "source": [
    "drop_rate=0.3\n",
    "\n",
    "1/(1-drop_rate)"
   ]
  },
  {
   "cell_type": "code",
   "execution_count": 36,
   "id": "7a993ec4-356a-4878-bda5-44546dd72bf5",
   "metadata": {},
   "outputs": [
    {
     "data": {
      "text/plain": [
       "tensor([[[2.0000, 0.0000, 0.0000, 0.0000, 0.0000, 0.0000],\n",
       "         [0.0000, 0.0000, 0.0000, 0.0000, 0.0000, 0.0000],\n",
       "         [0.6446, 0.6771, 0.6783, 0.0000, 0.0000, 0.0000],\n",
       "         [0.0000, 0.5143, 0.4831, 0.0000, 0.0000, 0.0000],\n",
       "         [0.0000, 0.4111, 0.0000, 0.3930, 0.0000, 0.0000],\n",
       "         [0.0000, 0.3424, 0.3318, 0.3295, 0.3351, 0.0000]],\n",
       "\n",
       "        [[2.0000, 0.0000, 0.0000, 0.0000, 0.0000, 0.0000],\n",
       "         [0.0000, 0.0000, 0.0000, 0.0000, 0.0000, 0.0000],\n",
       "         [0.0000, 0.6771, 0.6783, 0.0000, 0.0000, 0.0000],\n",
       "         [0.0000, 0.0000, 0.4831, 0.4984, 0.0000, 0.0000],\n",
       "         [0.0000, 0.0000, 0.0000, 0.0000, 0.4026, 0.0000],\n",
       "         [0.3310, 0.3424, 0.0000, 0.3295, 0.3351, 0.3301]],\n",
       "\n",
       "        [[0.0000, 0.0000, 0.0000, 0.0000, 0.0000, 0.0000],\n",
       "         [0.9747, 1.0253, 0.0000, 0.0000, 0.0000, 0.0000],\n",
       "         [0.0000, 0.0000, 0.0000, 0.0000, 0.0000, 0.0000],\n",
       "         [0.0000, 0.5143, 0.0000, 0.0000, 0.0000, 0.0000],\n",
       "         [0.0000, 0.0000, 0.3990, 0.3930, 0.0000, 0.0000],\n",
       "         [0.0000, 0.3424, 0.3318, 0.0000, 0.0000, 0.3301]],\n",
       "\n",
       "        [[0.0000, 0.0000, 0.0000, 0.0000, 0.0000, 0.0000],\n",
       "         [0.0000, 1.0253, 0.0000, 0.0000, 0.0000, 0.0000],\n",
       "         [0.6446, 0.6771, 0.6783, 0.0000, 0.0000, 0.0000],\n",
       "         [0.5042, 0.0000, 0.0000, 0.0000, 0.0000, 0.0000],\n",
       "         [0.3944, 0.4111, 0.3990, 0.0000, 0.4026, 0.0000],\n",
       "         [0.0000, 0.0000, 0.3318, 0.0000, 0.0000, 0.3301]],\n",
       "\n",
       "        [[0.0000, 0.0000, 0.0000, 0.0000, 0.0000, 0.0000],\n",
       "         [0.0000, 1.0253, 0.0000, 0.0000, 0.0000, 0.0000],\n",
       "         [0.0000, 0.6771, 0.6783, 0.0000, 0.0000, 0.0000],\n",
       "         [0.5042, 0.0000, 0.4831, 0.0000, 0.0000, 0.0000],\n",
       "         [0.3944, 0.0000, 0.3990, 0.3930, 0.4026, 0.0000],\n",
       "         [0.3310, 0.3424, 0.3318, 0.3295, 0.0000, 0.0000]],\n",
       "\n",
       "        [[2.0000, 0.0000, 0.0000, 0.0000, 0.0000, 0.0000],\n",
       "         [0.9747, 0.0000, 0.0000, 0.0000, 0.0000, 0.0000],\n",
       "         [0.6446, 0.0000, 0.6783, 0.0000, 0.0000, 0.0000],\n",
       "         [0.0000, 0.5143, 0.4831, 0.0000, 0.0000, 0.0000],\n",
       "         [0.0000, 0.4111, 0.3990, 0.3930, 0.4026, 0.0000],\n",
       "         [0.0000, 0.3424, 0.3318, 0.3295, 0.0000, 0.3301]]],\n",
       "       grad_fn=<MulBackward0>)"
      ]
     },
     "execution_count": 36,
     "metadata": {},
     "output_type": "execute_result"
    }
   ],
   "source": [
    "layer(attn_weights)"
   ]
  },
  {
   "cell_type": "markdown",
   "id": "df128456-1311-41f0-ba94-37d99766e26e",
   "metadata": {},
   "source": [
    "# Implementing a compact casual self_attention class"
   ]
  },
  {
   "cell_type": "code",
   "execution_count": 38,
   "id": "3ad03aed-047e-4d8a-9866-2e6a8ce6b862",
   "metadata": {},
   "outputs": [],
   "source": [
    "batch = torch.stack((inputs,inputs),dim=0)"
   ]
  },
  {
   "cell_type": "code",
   "execution_count": 44,
   "id": "a5ce2dc3-6424-48ed-86ee-1793fad12741",
   "metadata": {},
   "outputs": [],
   "source": [
    "import torch\n",
    "import torch.nn as nn\n",
    "\n",
    "class CausalAttention(nn.Module):\n",
    "    def __init__(self, d_in, d_out, context_length, dropout=0.0, qkv_bias=False):\n",
    "        super().__init__()\n",
    "        self.W_query = nn.Linear(d_in, d_out, bias=qkv_bias)\n",
    "        self.W_key = nn.Linear(d_in, d_out, bias=qkv_bias)\n",
    "        self.W_value = nn.Linear(d_in, d_out, bias=qkv_bias)\n",
    "        self.dropout = nn.Dropout(dropout)\n",
    "\n",
    "        # Causal mask (upper triangular)\n",
    "        self.register_buffer(\"mask\", torch.triu(torch.ones(context_length, context_length), diagonal=1))\n",
    "\n",
    "    def forward(self, x):\n",
    "        b, num_tokens, d_in = x.shape\n",
    "\n",
    "        queries = self.W_query(x)\n",
    "        keys = self.W_key(x)\n",
    "        values = self.W_value(x)\n",
    "\n",
    "        attn_scores = queries @ keys.transpose(1, 2)\n",
    "        attn_scores.masked_fill_(\n",
    "            self.mask.bool()[:num_tokens, :num_tokens], float('-inf')\n",
    "        )\n",
    "\n",
    "        attn_weights = torch.softmax(attn_scores / (keys.shape[-1] ** 0.5), dim=-1)\n",
    "        attn_weights = self.dropout(attn_weights)\n",
    "\n",
    "        context_vec = attn_weights @ values\n",
    "\n",
    "        return context_vec\n",
    "\n",
    "torch.manual_seed(123)\n",
    "\n",
    "batch = torch.randn(2, 6, 3)  # [batch_size=2, seq_len=6, d_in=3]\n",
    "d_in = 3\n",
    "d_out = 4\n",
    "context_length = batch.shape[1]\n",
    "dropout = 0.0\n",
    "\n",
    "ca = CausalAttention(d_in, d_out, context_length, dropout)\n",
    "out = ca(batch)\n"
   ]
  },
  {
   "cell_type": "markdown",
   "id": "132dedf8-e4ea-4fcb-8ce6-4dfe39eeffee",
   "metadata": {},
   "source": [
    "# 2.6 Extending single-head attention to multi-head attention"
   ]
  },
  {
   "cell_type": "markdown",
   "id": "bd8a7173-8897-4ec6-8a83-c7fe72a88984",
   "metadata": {},
   "source": [
    "# 2.6.1 Stacking multiple single-head attention layers"
   ]
  },
  {
   "cell_type": "code",
   "execution_count": 55,
   "id": "a528f8af-fcc2-4304-a6b1-d1c3babbd25b",
   "metadata": {},
   "outputs": [
    {
     "data": {
      "text/plain": [
       "tensor([[[-0.0408, -0.0034,  0.1444, -0.1567],\n",
       "         [-0.0025,  0.0059, -0.0884,  0.0969],\n",
       "         [-0.0225,  0.1421, -0.1455,  0.2462],\n",
       "         [ 0.1109, -0.0607, -0.0348,  0.0332],\n",
       "         [ 0.0667, -0.2384, -0.0740, -0.0419],\n",
       "         [ 0.0708, -0.2885,  0.0132, -0.1225]],\n",
       "\n",
       "        [[ 0.1124, -0.6109,  0.0540, -0.4721],\n",
       "         [ 0.2313, -0.2813,  0.1472, -0.3270],\n",
       "         [ 0.1189, -0.3333,  0.2083, -0.3498],\n",
       "         [ 0.1311, -0.2280,  0.0920, -0.2821],\n",
       "         [ 0.1639, -0.1306,  0.0992, -0.1320],\n",
       "         [ 0.1950, -0.0952,  0.1747, -0.1882]]], grad_fn=<CatBackward0>)"
      ]
     },
     "execution_count": 55,
     "metadata": {},
     "output_type": "execute_result"
    }
   ],
   "source": [
    "import torch\n",
    "import torch.nn as nn\n",
    "\n",
    "class CausalAttention(nn.Module):\n",
    "    def __init__(self, d_in, d_out, context_length, dropout=0.0, qkv_bias=False):\n",
    "        super().__init__()\n",
    "        self.W_query = nn.Linear(d_in, d_out, bias=qkv_bias)\n",
    "        self.W_key = nn.Linear(d_in, d_out, bias=qkv_bias)\n",
    "        self.W_value = nn.Linear(d_in, d_out, bias=qkv_bias)\n",
    "        self.dropout = nn.Dropout(dropout)\n",
    "        self.register_buffer(\"mask\", torch.triu(torch.ones(context_length, context_length), diagonal=1))\n",
    "\n",
    "    def forward(self, x):\n",
    "        b, num_tokens, d_in = x.shape\n",
    "        queries = self.W_query(x)\n",
    "        keys = self.W_key(x)\n",
    "        values = self.W_value(x)\n",
    "        attn_scores = queries @ keys.transpose(1, 2)\n",
    "        attn_scores.masked_fill_(self.mask.bool()[:num_tokens, :num_tokens], float('-inf'))\n",
    "        attn_weights = torch.softmax(attn_scores / (keys.shape[-1] ** 0.5), dim=-1)\n",
    "        attn_weights = self.dropout(attn_weights)\n",
    "        context_vec = attn_weights @ values\n",
    "        return context_vec\n",
    "\n",
    "\n",
    "class MultiHeadAttentionWrapper(nn.Module):\n",
    "    def __init__(self, d_in, d_out, context_length, dropout=0.0, qkv_bias=False, num_heads=2):\n",
    "        super().__init__()\n",
    "        self.heads = nn.ModuleList([\n",
    "            CausalAttention(d_in, d_out, context_length, dropout, qkv_bias)\n",
    "            for _ in range(num_heads)\n",
    "        ])\n",
    "\n",
    "    def forward(self, x):\n",
    "        # Concatenate outputs from each head along feature dimension\n",
    "        return torch.cat([head(x) for head in self.heads], dim=-1)\n",
    "\n",
    "torch.manual_seed(123)\n",
    "\n",
    "batch = torch.randn(2, 6, 3)  # [batch_size, seq_len, d_in]\n",
    "context_length = batch.shape[1]\n",
    "d_in, d_out = 3, 2\n",
    "\n",
    "mha = MultiHeadAttentionWrapper(d_in, d_out, context_length, dropout=0.0, qkv_bias=False, num_heads=2)\n",
    "mha(batch)\n"
   ]
  },
  {
   "cell_type": "markdown",
   "id": "40e77ae9-74a2-4500-a06d-4e57bbe79aee",
   "metadata": {},
   "source": [
    "# 2.6.2 Implementing multi-head attention with weight splits"
   ]
  },
  {
   "cell_type": "code",
   "execution_count": 56,
   "id": "feefaea2-a7be-4f60-b246-cd98fb131755",
   "metadata": {},
   "outputs": [],
   "source": [
    "class MultiHeadAttention(nn.Module):\n",
    "    def __init__(self, d_in, d_out, context_length, dropout, num_heads, qkv_bias=False):\n",
    "        super().__init__()\n",
    "        assert d_out % num_heads == 0, \"d_out must be divisible by num_heads\"\n",
    "\n",
    "        self.d_out = d_out\n",
    "        self.num_heads = num_heads\n",
    "        self.head_dim = d_out // num_heads # Reduce the projection dim to match desired output dim\n",
    "\n",
    "        self.W_query = nn.Linear(d_in, d_out, bias=qkv_bias)\n",
    "        self.W_key = nn.Linear(d_in, d_out, bias=qkv_bias)\n",
    "        self.W_value = nn.Linear(d_in, d_out, bias=qkv_bias)\n",
    "        self.out_proj = nn.Linear(d_out, d_out)  # Linear layer to combine head outputs\n",
    "        self.dropout = nn.Dropout(dropout)\n",
    "        self.register_buffer('mask', torch.triu(torch.ones(context_length, context_length), diagonal=1))\n",
    "\n",
    "    def forward(self, x):\n",
    "        b, num_tokens, d_in = x.shape\n",
    "\n",
    "        keys = self.W_key(x) # Shape: (b, num_tokens, d_out)\n",
    "        queries = self.W_query(x)\n",
    "        values = self.W_value(x)\n",
    "\n",
    "        # We implicitly split the matrix by adding a `num_heads` dimension\n",
    "        # Unroll last dim: (b, num_tokens, d_out) -> (b, num_tokens, num_heads, hea\n",
    "        keys = keys.view(b, num_tokens, self.num_heads, self.head_dim) \n",
    "        values = values.view(b, num_tokens, self.num_heads, self.head_dim)\n",
    "        queries = queries.view(b, num_tokens, self.num_heads, self.head_dim)\n",
    "\n",
    "        # Transpose: (b, num_tokens, num_heads, head_dim) -> (b, num_heads, num_tokens, head_dim)\n",
    "        keys = keys.transpose(1, 2)\n",
    "        queries = queries.transpose(1, 2)\n",
    "        values = values.transpose(1, 2)\n",
    "\n",
    "        # Compute scaled dot-product attention (aka self-attention) with a causal mask\n",
    "        attn_scores = queries @ keys.transpose(2, 3)  # Dot product for each head\n",
    "        \n",
    "        # Original mask truncated to the number of tokens and converted to boolean\n",
    "        mask_bool = self.mask.bool()[:num_tokens, :num_tokens]\n",
    "\n",
    "        # Use the mask to fill attention scores\n",
    "        attn_scores.masked_fill_(mask_bool, -torch.inf)\n",
    "        \n",
    "        attn_weights = torch.softmax(attn_scores / keys.shape[-1]**0.5, dim=-1)\n",
    "        attn_weights = self.dropout(attn_weights)\n",
    "\n",
    "        # Shape: (b, num_tokens, num_heads, head_dim)\n",
    "        context_vec = (attn_weights @ values).transpose(1, 2) \n",
    "        \n",
    "        # Combine heads, where self.d_out = self.num_heads * self.head_dim\n",
    "        context_vec = context_vec.contiguous().view(b, num_tokens, self.d_out)\n",
    "        context_vec = self.out_proj(context_vec) # optional projection\n",
    "\n",
    "        return context_vec"
   ]
  },
  {
   "cell_type": "code",
   "execution_count": 58,
   "id": "248adf82-60cc-4003-b1c6-1702028a7864",
   "metadata": {},
   "outputs": [
    {
     "name": "stdout",
     "output_type": "stream",
     "text": [
      "context_vecs.shape: torch.Size([2, 6, 6])\n"
     ]
    }
   ],
   "source": [
    "import torch\n",
    "\n",
    "torch.manual_seed(123)\n",
    "\n",
    "batch_size = 2\n",
    "max_length = 6        # sequence length\n",
    "output_dim = 3        # embedding dimension\n",
    "d_in = output_dim\n",
    "d_out = d_in\n",
    "\n",
    "# random batch of input embeddings\n",
    "input_embeddings = torch.randn(batch_size, max_length, d_in)\n",
    "\n",
    "mha = MultiHeadAttentionWrapper(d_in, d_out, max_length, dropout=0.0, qkv_bias=False, num_heads=2)\n",
    "context_vecs = mha(input_embeddings)\n",
    "\n",
    "print(\"context_vecs.shape:\", context_vecs.shape)"
   ]
  }
 ],
 "metadata": {
  "kernelspec": {
   "display_name": "Python 3 (ipykernel)",
   "language": "python",
   "name": "python3"
  },
  "language_info": {
   "codemirror_mode": {
    "name": "ipython",
    "version": 3
   },
   "file_extension": ".py",
   "mimetype": "text/x-python",
   "name": "python",
   "nbconvert_exporter": "python",
   "pygments_lexer": "ipython3",
   "version": "3.11.9"
  }
 },
 "nbformat": 4,
 "nbformat_minor": 5
}
